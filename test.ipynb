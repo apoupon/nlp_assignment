{
 "cells": [
  {
   "cell_type": "code",
   "execution_count": 21,
   "metadata": {},
   "outputs": [
    {
     "name": "stderr",
     "output_type": "stream",
     "text": [
      "c:\\ProgramData\\anaconda3\\envs\\NLP\\lib\\site-packages\\tqdm\\auto.py:21: TqdmWarning: IProgress not found. Please update jupyter and ipywidgets. See https://ipywidgets.readthedocs.io/en/stable/user_install.html\n",
      "  from .autonotebook import tqdm as notebook_tqdm\n"
     ]
    }
   ],
   "source": [
    "import pandas as pd\n",
    "from transformers import GPT2Tokenizer, GPT2Model"
   ]
  },
  {
   "cell_type": "code",
   "execution_count": 19,
   "metadata": {},
   "outputs": [
    {
     "data": {
      "text/html": [
       "<div>\n",
       "<style scoped>\n",
       "    .dataframe tbody tr th:only-of-type {\n",
       "        vertical-align: middle;\n",
       "    }\n",
       "\n",
       "    .dataframe tbody tr th {\n",
       "        vertical-align: top;\n",
       "    }\n",
       "\n",
       "    .dataframe thead th {\n",
       "        text-align: right;\n",
       "    }\n",
       "</style>\n",
       "<table border=\"1\" class=\"dataframe\">\n",
       "  <thead>\n",
       "    <tr style=\"text-align: right;\">\n",
       "      <th></th>\n",
       "      <th>polarity</th>\n",
       "      <th>aspect</th>\n",
       "      <th>term</th>\n",
       "      <th>term_pos</th>\n",
       "      <th>sentence</th>\n",
       "    </tr>\n",
       "  </thead>\n",
       "  <tbody>\n",
       "    <tr>\n",
       "      <th>0</th>\n",
       "      <td>positive</td>\n",
       "      <td>AMBIENCE#GENERAL</td>\n",
       "      <td>seating</td>\n",
       "      <td>18:25</td>\n",
       "      <td>short and sweet – seating is great:it's romantic,cozy and private.</td>\n",
       "    </tr>\n",
       "    <tr>\n",
       "      <th>1</th>\n",
       "      <td>positive</td>\n",
       "      <td>AMBIENCE#GENERAL</td>\n",
       "      <td>trattoria</td>\n",
       "      <td>25:34</td>\n",
       "      <td>This quaint and romantic trattoria is at the top of my Manhattan restaurant list.</td>\n",
       "    </tr>\n",
       "    <tr>\n",
       "      <th>2</th>\n",
       "      <td>positive</td>\n",
       "      <td>FOOD#QUALITY</td>\n",
       "      <td>food</td>\n",
       "      <td>98:102</td>\n",
       "      <td>The have over 100 different beers to offer thier guest so that made my husband very happy and the food was delicious, if I must recommend a dish it must be the pumkin tortelini.</td>\n",
       "    </tr>\n",
       "    <tr>\n",
       "      <th>3</th>\n",
       "      <td>negative</td>\n",
       "      <td>SERVICE#GENERAL</td>\n",
       "      <td>STAFF</td>\n",
       "      <td>5:10</td>\n",
       "      <td>THIS STAFF SHOULD BE FIRED.</td>\n",
       "    </tr>\n",
       "    <tr>\n",
       "      <th>4</th>\n",
       "      <td>positive</td>\n",
       "      <td>FOOD#STYLE_OPTIONS</td>\n",
       "      <td>menu</td>\n",
       "      <td>4:8</td>\n",
       "      <td>The menu looked great, and the waiter was very nice, but when the food came, it was average.</td>\n",
       "    </tr>\n",
       "    <tr>\n",
       "      <th>5</th>\n",
       "      <td>positive</td>\n",
       "      <td>FOOD#QUALITY</td>\n",
       "      <td>tuna</td>\n",
       "      <td>4:8</td>\n",
       "      <td>The tuna and wasabe potatoes are excellent.</td>\n",
       "    </tr>\n",
       "    <tr>\n",
       "      <th>6</th>\n",
       "      <td>negative</td>\n",
       "      <td>SERVICE#GENERAL</td>\n",
       "      <td>staff</td>\n",
       "      <td>82:87</td>\n",
       "      <td>The whole set up is truly unprofessional and I wish Cafe Noir would get some good staff, because despite the current one this is a great place.</td>\n",
       "    </tr>\n",
       "    <tr>\n",
       "      <th>7</th>\n",
       "      <td>negative</td>\n",
       "      <td>SERVICE#GENERAL</td>\n",
       "      <td>service</td>\n",
       "      <td>76:83</td>\n",
       "      <td>sometimes i get bad food and bad service, sometimes i get good good and bad service.</td>\n",
       "    </tr>\n",
       "    <tr>\n",
       "      <th>8</th>\n",
       "      <td>positive</td>\n",
       "      <td>FOOD#STYLE_OPTIONS</td>\n",
       "      <td>BBQ ribs</td>\n",
       "      <td>38:46</td>\n",
       "      <td>This place has the best Chinese style BBQ ribs in the city.</td>\n",
       "    </tr>\n",
       "    <tr>\n",
       "      <th>9</th>\n",
       "      <td>positive</td>\n",
       "      <td>AMBIENCE#GENERAL</td>\n",
       "      <td>place</td>\n",
       "      <td>6:11</td>\n",
       "      <td>Great place to relax and enjoy your dinner</td>\n",
       "    </tr>\n",
       "  </tbody>\n",
       "</table>\n",
       "</div>"
      ],
      "text/plain": [
       "   polarity              aspect       term term_pos  \\\n",
       "0  positive    AMBIENCE#GENERAL    seating    18:25   \n",
       "1  positive    AMBIENCE#GENERAL  trattoria    25:34   \n",
       "2  positive        FOOD#QUALITY       food   98:102   \n",
       "3  negative     SERVICE#GENERAL      STAFF     5:10   \n",
       "4  positive  FOOD#STYLE_OPTIONS       menu      4:8   \n",
       "5  positive        FOOD#QUALITY       tuna      4:8   \n",
       "6  negative     SERVICE#GENERAL      staff    82:87   \n",
       "7  negative     SERVICE#GENERAL    service    76:83   \n",
       "8  positive  FOOD#STYLE_OPTIONS   BBQ ribs    38:46   \n",
       "9  positive    AMBIENCE#GENERAL      place     6:11   \n",
       "\n",
       "                                                                                                                                                                            sentence  \n",
       "0                                                                                                                 short and sweet – seating is great:it's romantic,cozy and private.  \n",
       "1                                                                                                  This quaint and romantic trattoria is at the top of my Manhattan restaurant list.  \n",
       "2  The have over 100 different beers to offer thier guest so that made my husband very happy and the food was delicious, if I must recommend a dish it must be the pumkin tortelini.  \n",
       "3                                                                                                                                                        THIS STAFF SHOULD BE FIRED.  \n",
       "4                                                                                       The menu looked great, and the waiter was very nice, but when the food came, it was average.  \n",
       "5                                                                                                                                        The tuna and wasabe potatoes are excellent.  \n",
       "6                                    The whole set up is truly unprofessional and I wish Cafe Noir would get some good staff, because despite the current one this is a great place.  \n",
       "7                                                                                               sometimes i get bad food and bad service, sometimes i get good good and bad service.  \n",
       "8                                                                                                                        This place has the best Chinese style BBQ ribs in the city.  \n",
       "9                                                                                                                                         Great place to relax and enjoy your dinner  "
      ]
     },
     "execution_count": 19,
     "metadata": {},
     "output_type": "execute_result"
    }
   ],
   "source": [
    "df = pd.read_csv('data/traindata.csv', delimiter='\\t', names=['polarity', 'aspect', 'term', 'term_pos', 'sentence'])\n",
    "pd.set_option(\"display.max_colwidth\", None)\n",
    "df.head(10)"
   ]
  },
  {
   "cell_type": "code",
   "execution_count": 22,
   "metadata": {},
   "outputs": [
    {
     "name": "stderr",
     "output_type": "stream",
     "text": [
      "Downloading tokenizer_config.json: 100%|██████████| 26.0/26.0 [00:00<00:00, 27.4kB/s]\n",
      "c:\\ProgramData\\anaconda3\\envs\\NLP\\lib\\site-packages\\huggingface_hub\\file_download.py:137: UserWarning: `huggingface_hub` cache-system uses symlinks by default to efficiently store duplicated files but your machine does not support them in C:\\Users\\Antoine\\.cache\\huggingface\\hub. Caching files will still work but in a degraded version that might require more space on your disk. This warning can be disabled by setting the `HF_HUB_DISABLE_SYMLINKS_WARNING` environment variable. For more details, see https://huggingface.co/docs/huggingface_hub/how-to-cache#limitations.\n",
      "To support symlinks on Windows, you either need to activate Developer Mode or to run Python as an administrator. In order to see activate developer mode, see this article: https://docs.microsoft.com/en-us/windows/apps/get-started/enable-your-device-for-development\n",
      "  warnings.warn(message)\n",
      "Downloading vocab.json: 100%|██████████| 1.04M/1.04M [00:00<00:00, 5.18MB/s]\n",
      "Downloading merges.txt: 100%|██████████| 456k/456k [00:00<00:00, 3.19MB/s]\n",
      "Downloading tokenizer.json: 100%|██████████| 1.36M/1.36M [00:00<00:00, 2.87MB/s]\n",
      "Downloading config.json: 100%|██████████| 665/665 [00:00<00:00, 334kB/s]\n",
      "Downloading model.safetensors: 100%|██████████| 548M/548M [01:39<00:00, 5.51MB/s] \n"
     ]
    }
   ],
   "source": [
    "tokenizer = GPT2Tokenizer.from_pretrained('gpt2')\n",
    "model = GPT2Model.from_pretrained('gpt2')"
   ]
  },
  {
   "cell_type": "code",
   "execution_count": 29,
   "metadata": {},
   "outputs": [],
   "source": [
    "text = \"Replace me by any text you'd like.\"\n",
    "encoded_input = tokenizer(text, return_tensors='pt')\n",
    "output = model(**encoded_input)"
   ]
  },
  {
   "cell_type": "code",
   "execution_count": null,
   "metadata": {},
   "outputs": [],
   "source": []
  }
 ],
 "metadata": {
  "kernelspec": {
   "display_name": "NLP",
   "language": "python",
   "name": "python3"
  },
  "language_info": {
   "codemirror_mode": {
    "name": "ipython",
    "version": 3
   },
   "file_extension": ".py",
   "mimetype": "text/x-python",
   "name": "python",
   "nbconvert_exporter": "python",
   "pygments_lexer": "ipython3",
   "version": "3.10.0"
  }
 },
 "nbformat": 4,
 "nbformat_minor": 2
}
